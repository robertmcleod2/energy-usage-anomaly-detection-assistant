{
 "cells": [
  {
   "cell_type": "code",
   "execution_count": null,
   "metadata": {},
   "outputs": [],
   "source": [
    "# generate dummy customer smart meter data with daily usage using pandas\n",
    "\n",
    "import pandas as pd\n",
    "import numpy as np\n",
    "import plotly.express as px\n",
    "\n",
    "# generate a date range\n",
    "date_range = pd.date_range(start='2024-08-01', end='2024-09-01', freq='15min')\n",
    "date_range = date_range[:-1]\n",
    "\n",
    "# create a dataframe with the date range\n",
    "df = pd.DataFrame(index=date_range)\n",
    "\n",
    "# generate random daily usage data\n",
    "df['usage'] = np.sin(np.pi * (df.index.hour)/24) * 10 + np.random.randint(0, 5, len(df))\n",
    "\n",
    "# add anomalies\n",
    "anomaly_days = ['2024-08-10', '2024-08-20']\n",
    "for day in anomaly_days:\n",
    "    df.loc[day, 'usage'] = np.sin(np.pi * (df.loc[day, 'usage'].index.hour)/24) * 12 + np.random.randint(0, 5, len(df.loc[day, 'usage']))\n",
    "\n",
    "# plot using plotly\n",
    "fig = px.line(df, x=df.index, y='usage')\n",
    "fig.show()\n",
    "\n",
    "# save to csv\n",
    "df.to_csv('smart_meter_data.csv')"
   ]
  },
  {
   "cell_type": "code",
   "execution_count": null,
   "metadata": {},
   "outputs": [],
   "source": [
    "from scipy.stats import zscore\n",
    "\n",
    "# Aggregate the data to daily usage\n",
    "df_daily = df.resample('D').sum()\n",
    "\n",
    "# Calculate the Z-score for daily usage\n",
    "df_daily['zscore'] = zscore(df_daily['usage'])\n",
    "\n",
    "# Identify outliers (e.g., Z-score > 2 or < -2)\n",
    "df_daily['outlier'] = df_daily['zscore'].abs() > 2\n",
    "\n",
    "# add a column to the original dataframe to indicate if the day is an outlier\n",
    "df['outlier'] = df.index.floor('D').isin(df_daily[df_daily['outlier']].index)\n",
    "\n",
    "# plot original data with outliers highlighted with a red box covering the day\n",
    "fig = px.line(df, x=df.index, y='usage', title='Daily Usage with Outliers Highlighted')\n",
    "for outlier in df_daily[df_daily['outlier']].index:\n",
    "    fig.add_vrect(x0=outlier, x1=outlier + pd.Timedelta(days=1), fillcolor='red', opacity=0.25, line_width=0, annotation_text='Outlier')\n",
    "fig.show()"
   ]
  }
 ],
 "metadata": {
  "kernelspec": {
   "display_name": "energy-usage-anomaly-detection-assistant",
   "language": "python",
   "name": "python3"
  },
  "language_info": {
   "codemirror_mode": {
    "name": "ipython",
    "version": 3
   },
   "file_extension": ".py",
   "mimetype": "text/x-python",
   "name": "python",
   "nbconvert_exporter": "python",
   "pygments_lexer": "ipython3",
   "version": "3.12.5"
  }
 },
 "nbformat": 4,
 "nbformat_minor": 2
}
